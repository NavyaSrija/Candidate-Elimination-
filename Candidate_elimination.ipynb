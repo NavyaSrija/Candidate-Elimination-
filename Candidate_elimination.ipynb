{
  "nbformat": 4,
  "nbformat_minor": 0,
  "metadata": {
    "colab": {
      "name": "Copy of Candidate elimination",
      "provenance": [],
      "collapsed_sections": [],
      "authorship_tag": "ABX9TyOVOfUijFri1eMoUiHQITLF",
      "include_colab_link": true
    },
    "kernelspec": {
      "name": "python3",
      "display_name": "Python 3"
    },
    "language_info": {
      "name": "python"
    }
  },
  "cells": [
    {
      "cell_type": "markdown",
      "metadata": {
        "id": "view-in-github",
        "colab_type": "text"
      },
      "source": [
        "<a href=\"https://colab.research.google.com/github/NavyaSrija/Candidate-Elimination-/blob/main/Candidate_elimination.ipynb\" target=\"_parent\"><img src=\"https://colab.research.google.com/assets/colab-badge.svg\" alt=\"Open In Colab\"/></a>"
      ]
    },
    {
      "cell_type": "code",
      "metadata": {
        "id": "yebtRqL_GlG2"
      },
      "source": [
        "import random\n",
        "import csv"
      ],
      "execution_count": null,
      "outputs": []
    },
    {
      "cell_type": "code",
      "metadata": {
        "id": "XVTNAfgiGo1j"
      },
      "source": [
        "def g_0(n):\n",
        "    return (\"?\",)*n\n",
        "\n",
        "def s_0(n):\n",
        "    return ('0',)*n"
      ],
      "execution_count": null,
      "outputs": []
    },
    {
      "cell_type": "code",
      "metadata": {
        "colab": {
          "base_uri": "https://localhost:8080/"
        },
        "id": "07ow1xHNGuMr",
        "outputId": "05375a6a-b1b8-4475-e1fe-0b3fde215563"
      },
      "source": [
        "def more_general(h1, h2):\n",
        "    more_general_parts = []\n",
        "    for x, y in zip(h1, h2):\n",
        "        mg = x == \"?\" or (x != \"0\" and (x == y or y == \"0\"))\n",
        "        more_general_parts.append(mg)\n",
        "    return all(more_general_parts)\n",
        "\n",
        "l1 = [1, 2, 3]\n",
        "l2 = [3, 4, 5]\n",
        "\n",
        "list(zip(l1, l2))"
      ],
      "execution_count": null,
      "outputs": [
        {
          "output_type": "execute_result",
          "data": {
            "text/plain": [
              "[(1, 3), (2, 4), (3, 5)]"
            ]
          },
          "metadata": {},
          "execution_count": 3
        }
      ]
    },
    {
      "cell_type": "code",
      "metadata": {
        "id": "Y-TN6u5pG1HT"
      },
      "source": [
        "# min_generalizations\n",
        "def fulfills(example, hypothesis):\n",
        "    ### the implementation is the same as for hypotheses:\n",
        "    return more_general(hypothesis, example)\n",
        "\n",
        "def min_generalizations(h, x):\n",
        "    h_new = list(h)\n",
        "    for i in range(len(h)):\n",
        "        if not fulfills(x[i:i+1], h[i:i+1]):\n",
        "            h_new[i] = '?' if h[i] != '0' else x[i]\n",
        "    return [tuple(h_new)]"
      ],
      "execution_count": null,
      "outputs": []
    },
    {
      "cell_type": "code",
      "metadata": {
        "colab": {
          "base_uri": "https://localhost:8080/"
        },
        "id": "U62ij-Q9G1Kx",
        "outputId": "96d6c707-62fa-4294-85fd-0383ab19e72e"
      },
      "source": [
        "min_generalizations(h=('0', '0'  , 'sunny'), \n",
        "                    x=('rainy', 'windy', 'cloudy'))"
      ],
      "execution_count": null,
      "outputs": [
        {
          "output_type": "execute_result",
          "data": {
            "text/plain": [
              "[('rainy', 'windy', '?')]"
            ]
          },
          "metadata": {},
          "execution_count": 5
        }
      ]
    },
    {
      "cell_type": "code",
      "metadata": {
        "id": "eRY15YnuHCYI"
      },
      "source": [
        "def min_specializations(h, domains, x):\n",
        "    results = []\n",
        "    for i in range(len(h)):\n",
        "        if h[i] == \"?\":\n",
        "            for val in domains[i]:\n",
        "                if x[i] != val:\n",
        "                    h_new = h[:i] + (val,) + h[i+1:]\n",
        "                    results.append(h_new)\n",
        "        elif h[i] != \"0\":\n",
        "            h_new = h[:i] + ('0',) + h[i+1:]\n",
        "            results.append(h_new)\n",
        "    return results"
      ],
      "execution_count": null,
      "outputs": []
    },
    {
      "cell_type": "code",
      "metadata": {
        "colab": {
          "base_uri": "https://localhost:8080/"
        },
        "id": "_dzS_Z_-HCbc",
        "outputId": "d0e6ea38-efdb-42c9-99f8-a5ca50d42269"
      },
      "source": [
        "\n",
        "min_specializations(h=('?', 'x',), \n",
        "                    domains=[['a', 'b', 'c'], ['x', 'y']], \n",
        "                    x=('b', 'x'))"
      ],
      "execution_count": null,
      "outputs": [
        {
          "output_type": "execute_result",
          "data": {
            "text/plain": [
              "[('a', 'x'), ('c', 'x'), ('?', '0')]"
            ]
          },
          "metadata": {},
          "execution_count": 7
        }
      ]
    },
    {
      "cell_type": "code",
      "metadata": {
        "colab": {
          "base_uri": "https://localhost:8080/"
        },
        "id": "4wfW3APBGuT7",
        "outputId": "938dad36-23b8-4506-dba1-c161626bab7f"
      },
      "source": [
        "with open('/content/sport.csv')  as csvFile:\n",
        "        examples = [tuple(line) for line in csv.reader(csvFile)]\n",
        "\n",
        "#examples = [('sunny', 'warm', 'normal', 'strong', 'warm', 'same',True),\n",
        "# ('sunny', 'warm', 'high', 'strong', 'warm', 'same',True),\n",
        "# ('rainy', 'cold', 'high', 'strong', 'warm', 'change',False),\n",
        "# ('sunny', 'warm', 'high', 'strong', 'cool', 'change',True)]\n",
        "\n",
        "examples"
      ],
      "execution_count": null,
      "outputs": [
        {
          "output_type": "execute_result",
          "data": {
            "text/plain": [
              "[('Sunny', 'Warm', 'Normal', 'Strong', 'Warm', 'Same', 'Yes'),\n",
              " ('Sunny', 'Warm', 'High', 'Strong', 'Warm', 'Same', 'Yes'),\n",
              " ('Rainy', 'Cold', 'High', 'Strong', 'Warm', 'Change', 'No'),\n",
              " ('Sunny', 'Warm', 'High', 'Strong', 'Cool', 'Change', 'Yes')]"
            ]
          },
          "metadata": {},
          "execution_count": 8
        }
      ]
    },
    {
      "cell_type": "code",
      "metadata": {
        "colab": {
          "base_uri": "https://localhost:8080/"
        },
        "id": "3gu_lGHSHpxU",
        "outputId": "f175809b-e335-4a68-d27b-7eead1bd3832"
      },
      "source": [
        "def get_domains(examples):\n",
        "    d = [set() for i in examples[0]]\n",
        "    for x in examples:\n",
        "        for i, xi in enumerate(x):\n",
        "            d[i].add(xi)\n",
        "    return [list(sorted(x)) for x in d]\n",
        "\n",
        "get_domains(examples)"
      ],
      "execution_count": null,
      "outputs": [
        {
          "output_type": "execute_result",
          "data": {
            "text/plain": [
              "[['Rainy', 'Sunny'],\n",
              " ['Cold', 'Warm'],\n",
              " ['High', 'Normal'],\n",
              " ['Strong'],\n",
              " ['Cool', 'Warm'],\n",
              " ['Change', 'Same'],\n",
              " ['No', 'Yes']]"
            ]
          },
          "metadata": {},
          "execution_count": 9
        }
      ]
    },
    {
      "cell_type": "code",
      "metadata": {
        "id": "G50JXFPAHp0s"
      },
      "source": [
        "def candidate_elimination(examples):\n",
        "    domains = get_domains(examples)[:-1]\n",
        "    \n",
        "    G = set([g_0(len(domains))])\n",
        "    S = set([s_0(len(domains))])\n",
        "    i=0\n",
        "    print(\"\\n G[{0}]:\".format(i),G)\n",
        "    print(\"\\n S[{0}]:\".format(i),S)\n",
        "    for xcx in examples:\n",
        "        i=i+1\n",
        "        x, cx = xcx[:-1], xcx[-1]  # Splitting data into attributes and decisions\n",
        "        if cx=='Y': # x is positive example\n",
        "            G = {g for g in G if fulfills(x, g)}\n",
        "            S = generalize_S(x, G, S)\n",
        "        else: # x is negative example\n",
        "            S = {s for s in S if not fulfills(x, s)}\n",
        "            G = specialize_G(x, domains, G, S)\n",
        "        print(\"\\n G[{0}]:\".format(i),G)\n",
        "        print(\"\\n S[{0}]:\".format(i),S)\n",
        "    return"
      ],
      "execution_count": null,
      "outputs": []
    },
    {
      "cell_type": "code",
      "metadata": {
        "id": "P9JCYGc5IGuR"
      },
      "source": [
        "def generalize_S(x, G, S):\n",
        "    S_prev = list(S)\n",
        "    for s in S_prev:\n",
        "        if s not in S:\n",
        "            continue\n",
        "        if not fulfills(x, s):\n",
        "            S.remove(s)\n",
        "            Splus = min_generalizations(s, x)\n",
        "            ## keep only generalizations that have a counterpart in G\n",
        "            S.update([h for h in Splus if any([more_general(g,h) \n",
        "                                               for g in G])])\n",
        "            ## remove hypotheses less specific than any other in S\n",
        "            S.difference_update([h for h in S if \n",
        "                                 any([more_general(h, h1) \n",
        "                                      for h1 in S if h != h1])])\n",
        "    return S"
      ],
      "execution_count": null,
      "outputs": []
    },
    {
      "cell_type": "code",
      "metadata": {
        "id": "zV6_0VfcINb8"
      },
      "source": [
        "def specialize_G(x, domains, G, S):\n",
        "    G_prev = list(G)\n",
        "    for g in G_prev:\n",
        "        if g not in G:\n",
        "            continue\n",
        "        if fulfills(x, g):\n",
        "            G.remove(g)\n",
        "            Gminus = min_specializations(g, domains, x)\n",
        "            ## keep only specializations that have a conuterpart in S\n",
        "            G.update([h for h in Gminus if any([more_general(h, s)\n",
        "                                                for s in S])])\n",
        "            ## remove hypotheses less general than any other in G\n",
        "            G.difference_update([h for h in G if \n",
        "                                 any([more_general(g1, h) \n",
        "                                      for g1 in G if h != g1])])\n",
        "    return G"
      ],
      "execution_count": null,
      "outputs": []
    },
    {
      "cell_type": "code",
      "metadata": {
        "colab": {
          "base_uri": "https://localhost:8080/"
        },
        "id": "zO4N497zIGxe",
        "outputId": "4a5f4a03-6839-47cf-94d1-f4fc850f1bee"
      },
      "source": [
        "candidate_elimination(examples)"
      ],
      "execution_count": null,
      "outputs": [
        {
          "output_type": "stream",
          "name": "stdout",
          "text": [
            "\n",
            " G[0]: {('?', '?', '?', '?', '?', '?')}\n",
            "\n",
            " S[0]: {('0', '0', '0', '0', '0', '0')}\n",
            "\n",
            " G[1]: {('?', '?', '?', '?', '?', 'Change'), ('?', 'Cold', '?', '?', '?', '?'), ('Rainy', '?', '?', '?', '?', '?'), ('?', '?', 'High', '?', '?', '?'), ('?', '?', '?', '?', 'Cool', '?')}\n",
            "\n",
            " S[1]: {('0', '0', '0', '0', '0', '0')}\n",
            "\n",
            " G[2]: {('?', '?', '?', '?', '?', 'Change'), ('?', 'Cold', '?', '?', '?', '?'), ('Rainy', '?', '?', '?', '?', '?'), ('?', '?', '?', '?', 'Cool', '?')}\n",
            "\n",
            " S[2]: {('0', '0', '0', '0', '0', '0')}\n",
            "\n",
            " G[3]: {('Sunny', '?', '?', '?', '?', 'Change'), ('?', 'Warm', '?', '?', '?', 'Change'), ('Rainy', '?', 'Normal', '?', '?', '?'), ('Rainy', '?', '?', '?', '?', 'Same'), ('Sunny', 'Cold', '?', '?', '?', '?'), ('?', 'Cold', 'Normal', '?', '?', '?'), ('?', 'Cold', '?', '?', '?', 'Same'), ('Rainy', 'Warm', '?', '?', '?', '?'), ('?', '?', 'Normal', '?', '?', 'Change'), ('?', '?', '?', '?', 'Cool', '?')}\n",
            "\n",
            " S[3]: {('0', '0', '0', '0', '0', '0')}\n",
            "\n",
            " G[4]: {('?', '?', '?', '?', 'Cool', 'Same'), ('Rainy', '?', 'Normal', '?', '?', '?'), ('?', 'Cold', '?', '?', '?', 'Same'), ('Rainy', 'Warm', '?', '?', '?', '?'), ('Rainy', '?', '?', '?', 'Cool', '?'), ('?', 'Warm', '?', '?', 'Warm', 'Change'), ('?', 'Cold', '?', '?', 'Cool', '?'), ('?', '?', 'Normal', '?', 'Cool', '?'), ('Rainy', '?', '?', '?', '?', 'Same'), ('?', 'Cold', 'Normal', '?', '?', '?'), ('Sunny', 'Cold', '?', '?', '?', '?'), ('?', '?', 'Normal', '?', '?', 'Change'), ('Sunny', '?', '?', '?', 'Warm', 'Change')}\n",
            "\n",
            " S[4]: {('0', '0', '0', '0', '0', '0')}\n"
          ]
        }
      ]
    },
    {
      "cell_type": "code",
      "metadata": {
        "colab": {
          "base_uri": "https://localhost:8080/"
        },
        "id": "Pw7UGBkJGueI",
        "outputId": "7c856c25-09b0-47dd-d1b3-21b02f0d9cbe"
      },
      "source": [
        "min_generalizations(h=('0', '0'  , 'big'), \n",
        "                    x=('big', 'red', 'circle'))"
      ],
      "execution_count": null,
      "outputs": [
        {
          "output_type": "execute_result",
          "data": {
            "text/plain": [
              "[('big', 'red', '?')]"
            ]
          },
          "metadata": {},
          "execution_count": 14
        }
      ]
    },
    {
      "cell_type": "code",
      "metadata": {
        "colab": {
          "base_uri": "https://localhost:8080/"
        },
        "id": "anc_Tny3I4QI",
        "outputId": "24a177aa-802a-4df6-e391-cf67e02fe5fd"
      },
      "source": [
        "with open('/geo.csv')  as csvFile:\n",
        "        examples = [tuple(line) for line in csv.reader(csvFile)]\n",
        "\n",
        "#example[('Big', 'Red', 'Circle', 'No'),\n",
        " #('Small', 'Red', 'Triangle', 'No'),\n",
        " #('Small', 'Red', 'Circle', 'Yes'),\n",
        " #('Small', 'Blue', 'Circle', 'Yes')]\n",
        "\n",
        "examples"
      ],
      "execution_count": null,
      "outputs": [
        {
          "output_type": "execute_result",
          "data": {
            "text/plain": [
              "[('Big', 'Red', 'Circle', 'No'),\n",
              " ('Small', 'Red', 'Triangle', 'No'),\n",
              " ('Small', 'Red', 'Circle', 'Yes'),\n",
              " ('Small', 'Blue', 'Circle', 'Yes')]"
            ]
          },
          "metadata": {},
          "execution_count": 16
        }
      ]
    },
    {
      "cell_type": "code",
      "metadata": {
        "colab": {
          "base_uri": "https://localhost:8080/"
        },
        "id": "8xzCrlebI4Tm",
        "outputId": "fa217033-6e22-4290-c03f-47303d9678dc"
      },
      "source": [
        "def get_domains(examples):\n",
        "    d = [set() for i in examples[0]]\n",
        "    for x in examples:\n",
        "        for i, xi in enumerate(x):\n",
        "            d[i].add(xi)\n",
        "    return [list(sorted(x)) for x in d]\n",
        "\n",
        "get_domains(examples)"
      ],
      "execution_count": null,
      "outputs": [
        {
          "output_type": "execute_result",
          "data": {
            "text/plain": [
              "[['Big', 'Small'], ['Blue', 'Red'], ['Circle', 'Triangle'], ['No', 'Yes']]"
            ]
          },
          "metadata": {},
          "execution_count": 17
        }
      ]
    },
    {
      "cell_type": "code",
      "metadata": {
        "id": "4koc1OQSK_SK"
      },
      "source": [
        "def candidate_elimination(examples):\n",
        "    domains = get_domains(examples)[:-1]\n",
        "    \n",
        "    G = set([g_0(len(domains))])\n",
        "    S = set([s_0(len(domains))])\n",
        "    i=0\n",
        "    print(\"\\n G[{0}]:\".format(i),G)\n",
        "    print(\"\\n S[{0}]:\".format(i),S)\n",
        "    for xcx in examples:\n",
        "        i=i+1\n",
        "        x, cx = xcx[:-1], xcx[-1]  # Splitting data into attributes and decisions\n",
        "        if cx=='Y': # x is positive example\n",
        "            G = {g for g in G if fulfills(x, g)}\n",
        "            S = generalize_S(x, G, S)\n",
        "        else: # x is negative example\n",
        "            S = {s for s in S if not fulfills(x, s)}\n",
        "            G = specialize_G(x, domains, G, S)\n",
        "        print(\"\\n G[{0}]:\".format(i),G)\n",
        "        print(\"\\n S[{0}]:\".format(i),S)\n",
        "    return"
      ],
      "execution_count": null,
      "outputs": []
    },
    {
      "cell_type": "code",
      "metadata": {
        "id": "9Fxcmg8RK_ZT"
      },
      "source": [
        "def generalize_S(x, G, S):\n",
        "    S_prev = list(S)\n",
        "    for s in S_prev:\n",
        "        if s not in S:\n",
        "            continue\n",
        "        if not fulfills(x, s):\n",
        "            S.remove(s)\n",
        "            Splus = min_generalizations(s, x)\n",
        "            ## keep only generalizations that have a counterpart in G\n",
        "            S.update([h for h in Splus if any([more_general(g,h) \n",
        "                                               for g in G])])\n",
        "            ## remove hypotheses less specific than any other in S\n",
        "            S.difference_update([h for h in S if \n",
        "                                 any([more_general(h, h1) \n",
        "                                      for h1 in S if h != h1])])\n",
        "    return S"
      ],
      "execution_count": null,
      "outputs": []
    },
    {
      "cell_type": "code",
      "metadata": {
        "id": "cOUeCEnSK_cp"
      },
      "source": [
        "def specialize_G(x, domains, G, S):\n",
        "    G_prev = list(G)\n",
        "    for g in G_prev:\n",
        "        if g not in G:\n",
        "            continue\n",
        "        if fulfills(x, g):\n",
        "            G.remove(g)\n",
        "            Gminus = min_specializations(g, domains, x)\n",
        "            ## keep only specializations that have a conuterpart in S\n",
        "            G.update([h for h in Gminus if any([more_general(h, s)\n",
        "                                                for s in S])])\n",
        "            ## remove hypotheses less general than any other in G\n",
        "            G.difference_update([h for h in G if \n",
        "                                 any([more_general(g1, h) \n",
        "                                      for g1 in G if h != g1])])\n",
        "    return G"
      ],
      "execution_count": null,
      "outputs": []
    },
    {
      "cell_type": "code",
      "metadata": {
        "colab": {
          "base_uri": "https://localhost:8080/"
        },
        "id": "RjTe_Fw0LbwO",
        "outputId": "78c8895e-6c93-4d64-c884-87cf555cc7cb"
      },
      "source": [
        "candidate_elimination(examples)"
      ],
      "execution_count": null,
      "outputs": [
        {
          "output_type": "stream",
          "name": "stdout",
          "text": [
            "\n",
            " G[0]: {('?', '?', '?')}\n",
            "\n",
            " S[0]: {('0', '0', '0')}\n",
            "\n",
            " G[1]: {('?', 'Blue', '?'), ('Small', '?', '?'), ('?', '?', 'Triangle')}\n",
            "\n",
            " S[1]: {('0', '0', '0')}\n",
            "\n",
            " G[2]: {('Big', '?', 'Triangle'), ('Small', '?', 'Circle'), ('?', 'Blue', '?')}\n",
            "\n",
            " S[2]: {('0', '0', '0')}\n",
            "\n",
            " G[3]: {('Big', '?', 'Triangle'), ('?', 'Blue', '?')}\n",
            "\n",
            " S[3]: {('0', '0', '0')}\n",
            "\n",
            " G[4]: {('Big', '?', 'Triangle'), ('Big', 'Blue', '?'), ('?', 'Blue', 'Triangle')}\n",
            "\n",
            " S[4]: {('0', '0', '0')}\n"
          ]
        }
      ]
    },
    {
      "cell_type": "code",
      "metadata": {
        "id": "TmqCxGt6Lb_e"
      },
      "source": [
        ""
      ],
      "execution_count": null,
      "outputs": []
    }
  ]
}